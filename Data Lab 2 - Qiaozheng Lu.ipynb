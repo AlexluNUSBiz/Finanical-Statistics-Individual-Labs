{
 "cells": [
  {
   "cell_type": "markdown",
   "id": "a57b75f9",
   "metadata": {
    "pycharm": {
     "name": "#%% md\n"
    }
   },
   "source": [
    "# Data lab 2 - Portfolio Optimization\n",
    "\n",
    "#### Note 1: Review what you have learned in DataCamp assignments (e.g., Introduction to Portfolio Analysis in Python).\n",
    "#### Note 2: To deep dive into what each function does, use the help function, e.g., run \"help(npf.npv).\" "
   ]
  },
  {
   "cell_type": "markdown",
   "id": "a3dba014",
   "metadata": {
    "pycharm": {
     "name": "#%% md\n"
    }
   },
   "source": [
    "### 1. Craft an all-weather portfolio. Pick a portfolio of stocks following an investment theme that has stood and will stand the test of time. Extract the data from Yahoo Finance and explore the statistical distribution of each stock's past 5-year returns."
   ]
  },
  {
   "cell_type": "code",
   "execution_count": 13,
   "id": "1a6e64d9",
   "metadata": {
    "pycharm": {
     "name": "#%%\n"
    }
   },
   "outputs": [],
   "source": [
    "# Import the necessary packages\n",
    "import yfinance as yf\n",
    "import datetime as dt \n",
    "import numpy as np\n",
    "import pandas as pd\n",
    "import matplotlib.pyplot as plt"
   ]
  },
  {
   "cell_type": "code",
   "execution_count": 28,
   "id": "75aa1d71-a519-4e9c-90f7-59a7ca29ba8e",
   "metadata": {
    "pycharm": {
     "name": "#%%\n"
    }
   },
   "outputs": [
    {
     "name": "stdout",
     "output_type": "stream",
     "text": [
      "[*********************100%***********************]  10 of 10 completed\n",
      "            Adj Close                                                         \\\n",
      "                 AAPL       AMZN        BABA         BP      BYDDY       CCJ   \n",
      "Date                                                                           \n",
      "2017-08-30  38.757454  48.379501  171.250000  25.691235  11.919321  9.524319   \n",
      "2017-08-31  38.911682  49.029999  171.740005  25.960331  11.830296  9.668919   \n",
      "2017-09-01  38.923550  48.912498  171.039993  25.990236  11.850079  9.649639   \n",
      "2017-09-05  38.456127  48.263500  169.919998  26.124779  11.721490  9.601440   \n",
      "2017-09-06  38.415802  48.389999  168.139999  26.401356  11.919321  9.707479   \n",
      "\n",
      "                                                        ...     Volume  \\\n",
      "                 GOOG        KMI       PAAS      TCEHY  ...       AAPL   \n",
      "Date                                                    ...              \n",
      "2017-08-30  46.478500  14.443089  17.287395  41.306942  ...  109078400   \n",
      "2017-08-31  46.966499  14.640008  17.617849  41.701008  ...  107140400   \n",
      "2017-09-01  46.867001  14.662727  17.636732  41.375908  ...   66364400   \n",
      "2017-09-05  46.422501  14.655155  18.080481  40.321804  ...  117874000   \n",
      "2017-09-06  46.390499  14.640008  17.731146  41.139473  ...   86606800   \n",
      "\n",
      "                                                                             \\\n",
      "                AMZN      BABA       BP  BYDDY      CCJ      GOOG       KMI   \n",
      "Date                                                                          \n",
      "2017-08-30  58092000  17770000  2425300  33200  1649700  26024000   9498300   \n",
      "2017-08-31  66630000  16486800  5133100  18900  1386300  31652000  11783200   \n",
      "2017-09-01  50718000  11166600  4588500  14700  1083000  18948000  14322500   \n",
      "2017-09-05  57664000  14943600  3694300  18500  1774000  26528000  10741100   \n",
      "2017-09-06  42598000  19988300  6477200  70400  1266900  30554000  12714300   \n",
      "\n",
      "                              \n",
      "               PAAS    TCEHY  \n",
      "Date                          \n",
      "2017-08-30   936600  1992200  \n",
      "2017-08-31   974900  1671200  \n",
      "2017-09-01   688600  2130100  \n",
      "2017-09-05  1490200  2465700  \n",
      "2017-09-06  1583600  1277300  \n",
      "\n",
      "[5 rows x 60 columns]\n"
     ]
    }
   ],
   "source": [
    "# Pick a list of stocks that form your all-weather portfolio\n",
    "# Draw data for the past five years\n",
    "\n",
    "#Illustrative, change into yours!\n",
    "symbols_list = [\"AAPL\", \"AMZN\", \"GOOG\", \"BP\", \"KMI\", \"BABA\", \"TCEHY\", \"BYDDY\", \"PAAS\", \"CCJ\"]\n",
    "\n",
    "start = dt.datetime(2017,8,31)      ## Specify the starting point of historical price\n",
    "end = dt.datetime(2022,8,31)      ## Specify the ending point of historical price\n",
    "\n",
    "df = yf.download(symbols_list, start=start, end=end)      ## Download the price data\n",
    "\n",
    "print(df.head())      ## Print the head of the dataframe to check the column names\n"
   ]
  },
  {
   "cell_type": "code",
   "execution_count": 15,
   "id": "27e43f5a-a4d2-430d-b0f5-7d202149601c",
   "metadata": {
    "pycharm": {
     "name": "#%%\n"
    }
   },
   "outputs": [
    {
     "name": "stdout",
     "output_type": "stream",
     "text": [
      "                AAPL      AMZN      BABA        BP     BYDDY       CCJ  \\\n",
      "Date                                                                     \n",
      "2017-08-30       NaN       NaN       NaN       NaN       NaN       NaN   \n",
      "2017-08-31  0.003979  0.013446  0.002861  0.010474 -0.007469  0.015182   \n",
      "2017-09-01  0.000305 -0.002396 -0.004076  0.001152  0.001672 -0.001994   \n",
      "2017-09-05 -0.012008 -0.013269 -0.006548  0.005177 -0.010851 -0.004995   \n",
      "2017-09-06 -0.001049  0.002621 -0.010476  0.010587  0.016878  0.011044   \n",
      "\n",
      "                GOOG       KMI      PAAS     TCEHY  \n",
      "Date                                                \n",
      "2017-08-30       NaN       NaN       NaN       NaN  \n",
      "2017-08-31  0.010499  0.013634  0.019115  0.009540  \n",
      "2017-09-01 -0.002119  0.001552  0.001072 -0.007796  \n",
      "2017-09-05 -0.009484 -0.000517  0.025160 -0.025476  \n",
      "2017-09-06 -0.000689 -0.001033 -0.019321  0.020279  \n"
     ]
    }
   ],
   "source": [
    "# Keep only the adjusted close in the dataframe\n",
    "# Note that the date is in the index\n",
    "price = df[\"Adj Close\"]\n",
    "\n",
    "# Calculate return using method pct_change\n",
    "# Find out more about .pct_change with help!\n",
    "pct_return = price.pct_change()\n",
    "\n",
    "# deep dive into the first five rows of observations in the dataframe\n",
    "print(pct_return.head(5))"
   ]
  },
  {
   "cell_type": "code",
   "execution_count": 16,
   "id": "42679688-1aae-428f-8805-7033453ff179",
   "metadata": {
    "pycharm": {
     "name": "#%%\n"
    }
   },
   "outputs": [
    {
     "name": "stdout",
     "output_type": "stream",
     "text": [
      "                   AAPL      AMZN       BABA         BP     BYDDY       CCJ  \\\n",
      "mean           0.001328  0.001013  -0.000077   0.000424  0.001928  0.001354   \n",
      "standard dev.  0.020289  0.021663   0.028686   0.022957  0.034618  0.030143   \n",
      "skewness      -0.098676  0.106445   1.776765   0.026475  0.785120  0.478180   \n",
      "kurtosis       5.098187  5.197694  23.419272  15.559981  3.769776  4.724911   \n",
      "\n",
      "                   GOOG        KMI      PAAS      TCEHY  \n",
      "mean           0.000861   0.000405  0.000398   0.000321  \n",
      "standard dev.  0.018808   0.020267  0.031659   0.026622  \n",
      "skewness      -0.001428  -1.039892  0.044613   1.474107  \n",
      "kurtosis       4.186795  20.822245  6.825356  20.045535  \n"
     ]
    }
   ],
   "source": [
    "des = pd.DataFrame()\n",
    "# Print the daily return mean of each asset\n",
    "mean = pct_return.mean(axis=0)\n",
    "des['mean'] = mean\n",
    "\n",
    "# Print the daily return standard deviation of each asset\n",
    "std = pct_return.std(axis=0)\n",
    "des['standard dev.'] = std\n",
    "\n",
    "# Print the skewness of each asset \n",
    "\n",
    "skew = pct_return.skew(axis=0)\n",
    "des['skewness'] = skew\n",
    "\n",
    "# Print the kurtosis of each asset\n",
    "kurt = pct_return.kurtosis(axis=0)\n",
    "des['kurtosis'] = kurt\n",
    "\n",
    "print(des.transpose())"
   ]
  },
  {
   "cell_type": "markdown",
   "id": "1b7a993b",
   "metadata": {
    "pycharm": {
     "name": "#%% md\n"
    }
   },
   "source": [
    "### 2. Build an equally-weighted all-weather portfolio of your stock picks. Then, deep dive into the return characteristics of the portfolio (i.e., annualized portfolio return and volatility, portfolio's Sharpe ratio, portfolio's daily return profile - mean, volatility, skewness, kurtosis). Finally, draw the cumulative return of your all-weather portfolio for the past five years."
   ]
  },
  {
   "cell_type": "code",
   "execution_count": 57,
   "id": "caa96f1f-bd35-4f44-bddc-92dedee15b76",
   "metadata": {
    "pycharm": {
     "name": "#%%\n"
    }
   },
   "outputs": [
    {
     "name": "stdout",
     "output_type": "stream",
     "text": [
      "[0.1 0.1 0.1 0.1 0.1 0.1 0.1 0.1 0.1 0.1 0.1]\n",
      "############## Overview ##############\n",
      "\u001B[4mThe first few rows of the portfolio's daily return is:\u001B[0m\n",
      "Date\n",
      "2017-08-30         NaN\n",
      "2017-08-31    0.010140\n",
      "2017-09-01   -0.001403\n",
      "2017-09-05   -0.005868\n",
      "2017-09-06    0.003204\n",
      "Name: Portfolio, dtype: float64\n",
      "\n",
      "\n",
      "\u001B[4mThe portfolio's annualized return is: \u001B[0m\n",
      "2017    0.228530\n",
      "2018   -0.000251\n",
      "2019    0.621275\n",
      "2020    0.302300\n",
      "2021   -0.037179\n",
      "dtype: float64\n",
      "\n",
      "\n",
      "############## DAILY RETURN PROFILE ##############\n",
      "Mean Return = 0.0009\n",
      "Volatility = 0.0177\n",
      "Skewness = -0.3146\n",
      "Kurtosis = 6.795\n",
      "\n",
      "\n",
      "############## ANNUAL RETURN PROFILE ##############\n",
      "Mean Return = 0.2229\n",
      "Volatility = 0.2657\n",
      "Sharpe Ratio = 0.7185\n"
     ]
    }
   ],
   "source": [
    "## Equal weights for the portfolio\n",
    "weight = np.array([0.1])\n",
    "for i in np.arange(0, 10):\n",
    "    weight = np.append(weight, 0.1)\n",
    "\n",
    "## Calculate annual expected portfolio performance\n",
    "pct_return['Portfolio'] = pct_return.dot(weight)\n",
    "\n",
    "## Calculate the annualized rate of return for all five years\n",
    "\n",
    "return2017 = (1 + pct_return.loc['2017-08-31':'2018-08-30', 'Portfolio']).cumprod()[-1]-1\n",
    "return2018 = (1 + pct_return.loc['2018-08-31':'2019-08-30', 'Portfolio']).cumprod()[-1]-1\n",
    "return2019 = (1 + pct_return.loc['2019-08-31':'2020-08-30', 'Portfolio']).cumprod()[-1]-1\n",
    "return2020 = (1 + pct_return.loc['2020-08-31':'2021-08-30', 'Portfolio']).cumprod()[-1]-1\n",
    "return2021 = (1 + pct_return.loc['2021-08-31':'2022-08-30', 'Portfolio']).cumprod()[-1]-1\n",
    "\n",
    "## Create a list of annualized return and convert it into a pandas series\n",
    "annual_return = [return2017, return2018, return2019, return2020, return2021]\n",
    "annual_return = pd.Series(annual_return, copy=False, index=['2017', '2018', '2019', '2020', '2021'])\n",
    "\n",
    "def performance_summary(return_series, skewness=False, kurtosis=False, sharpe=False, plt=False, num_digi=4, risk_free=0.032):\n",
    "    print('Mean Return = '  + str(round(return_series.mean(), num_digi)))\n",
    "    print('Volatility = ' + str(round(return_series.std(), num_digi)))\n",
    "\n",
    "    if skewness == True:\n",
    "        print('Skewness = ' + str(round(return_series.skew(), num_digi)))\n",
    "\n",
    "    if kurtosis == True:\n",
    "       print('Kurtosis = '+ str(round(return_series.kurtosis(), num_digi)))\n",
    "\n",
    "    if sharpe == True:\n",
    "        sharpe_ratio = (return_series.mean() - risk_free)/return_series.std()\n",
    "        print('Sharpe Ratio = '+ str(round(sharpe_ratio, num_digi)))\n",
    "\n",
    "    if plt == True:\n",
    "        cum_return = (1+return_series).cumprod()\n",
    "        plt.plot(cum_return.index, cum_return)\n",
    "        plt.show()\n",
    "\n",
    "## Output an overview of the two sets of returns\n",
    "print('############## Overview ##############')\n",
    "print(\"\\033[4m\" + 'The first few rows of the portfolio\\'s daily return is:' + \"\\033[0m\")\n",
    "print(pct_return['Portfolio'].head())\n",
    "\n",
    "print('\\n')\n",
    "print(\"\\033[4m\" + 'The portfolio\\'s annualized return is: ' + \"\\033[0m\")\n",
    "print(annual_return)\n",
    "\n",
    "############ Daily Return Features ############\n",
    "print('\\n')\n",
    "print('############## DAILY RETURN PROFILE ##############')\n",
    "\n",
    "performance_summary(pct_return['Portfolio'], skewness=True, kurtosis=True)\n",
    "\n",
    "############ Annual Return Features ############\n",
    "print('\\n')\n",
    "print('############## ANNUAL RETURN PROFILE ##############')\n",
    "\n",
    "performance_summary(annual_return, sharpe=True, risk_free=0.032)\n"
   ]
  },
  {
   "cell_type": "code",
   "execution_count": 39,
   "id": "4ab4984e-bed1-431f-a799-3bbb813270dd",
   "metadata": {
    "pycharm": {
     "name": "#%%\n"
    }
   },
   "outputs": [
    {
     "data": {
      "text/plain": "<Figure size 640x480 with 1 Axes>",
      "image/png": "[encoded data removed]"
     },
     "metadata": {},
     "output_type": "display_data"
    }
   ],
   "source": [
    "# Calculate cumulative returns\n",
    "# Hint: Use .cumprod()\n",
    "cum_return = (1+pct_return['Portfolio']).cumprod()\n",
    "\n",
    "# Plot the cumulative returns since inception\n",
    "plt.plot(cum_return.index, cum_return)\n",
    "plt.show()\n",
    "\n"
   ]
  },
  {
   "cell_type": "markdown",
   "id": "b7330727",
   "metadata": {
    "pycharm": {
     "name": "#%% md\n"
    }
   },
   "source": [
    "### 3. Repeat (2) but with the maximum Sharpe portfolio and minimum volatility portfolio."
   ]
  },
  {
   "cell_type": "code",
   "execution_count": 76,
   "id": "56bfb220",
   "metadata": {
    "pycharm": {
     "name": "#%%\n"
    }
   },
   "outputs": [
    {
     "name": "stdout",
     "output_type": "stream",
     "text": [
      "############## Overview ##############\n",
      "\u001B[4mThe first few rows of the portfolio's daily return is:\u001B[0m\n",
      "Date\n",
      "2017-08-30         NaN\n",
      "2017-08-31    0.002773\n",
      "2017-09-01    0.000347\n",
      "2017-09-05   -0.011023\n",
      "2017-09-06    0.003982\n",
      "Name: Sharpe Optimal, dtype: float64\n",
      "\n",
      "\n",
      "\u001B[4mThe portfolio's annualized return is: \u001B[0m\n",
      "\n",
      "\n",
      "############## DAILY RETURN PROFILE ##############\n",
      "Mean Return = 0.0015\n",
      "Volatility = 0.019\n",
      "Skewness = -0.1835\n",
      "Kurtosis = 3.9181\n",
      "\n",
      "\n",
      "############## ANNUAL RETURN PROFILE ##############\n",
      "Mean Return = 0.4464\n",
      "Volatility = 0.5176\n",
      "Sharpe Ratio = 0.8005\n"
     ]
    },
    {
     "data": {
      "text/plain": "<Figure size 640x480 with 1 Axes>",
      "image/png": "[encoded data removed]"
     },
     "metadata": {},
     "output_type": "display_data"
    }
   ],
   "source": [
    "# Import the packages\n",
    "from pypfopt import risk_models\n",
    "from pypfopt import expected_returns\n",
    "from pypfopt.efficient_frontier import EfficientFrontier\n",
    "\n",
    "# Calculate expected returns mu\n",
    "mu = expected_returns.mean_historical_return(price)\n",
    "\n",
    "# Calculate the covariance matrix sigma\n",
    "sigma = risk_models.sample_cov(price)\n",
    "\n",
    "# Obtain the efficient frontier\n",
    "ef = EfficientFrontier(mu, sigma)\n",
    "\n",
    "############## Maximum Sharpe Ratio Portfolio ##############\n",
    "raw_weights = ef.max_sharpe()\n",
    "\n",
    "cleaned_weights = ef.clean_weights()\n",
    "\n",
    "pct_return['Sharpe Optimal'] = 0\n",
    "\n",
    "for columns in pct_return:\n",
    "    if columns != 'Portfolio' and columns != 'Sharpe Optimal' and columns != 'Volatility Optimal':\n",
    "        pct_return['Sharpe Optimal'] = pct_return['Sharpe Optimal'] + pct_return[columns] * cleaned_weights[columns]\n",
    "\n",
    "## Calculate the annualized rate of return for all five years\n",
    "\n",
    "return2017 = (1 + pct_return.loc['2017-08-31':'2018-08-30', 'Sharpe Optimal']).cumprod()[-1]-1\n",
    "return2018 = (1 + pct_return.loc['2018-08-31':'2019-08-30', 'Sharpe Optimal']).cumprod()[-1]-1\n",
    "return2019 = (1 + pct_return.loc['2019-08-31':'2020-08-30', 'Sharpe Optimal']).cumprod()[-1]-1\n",
    "return2020 = (1 + pct_return.loc['2020-08-31':'2021-08-30', 'Sharpe Optimal']).cumprod()[-1]-1\n",
    "return2021 = (1 + pct_return.loc['2021-08-31':'2022-08-30', 'Sharpe Optimal']).cumprod()[-1]-1\n",
    "\n",
    "## Create a list of annualized return and convert it into a pandas series\n",
    "annual_return = [return2017, return2018, return2019, return2020, return2021]\n",
    "annual_return = pd.Series(annual_return, copy=False, index=['2017', '2018', '2019', '2020', '2021'])\n",
    "\n",
    "#####################\n",
    "## Redo Everything ##\n",
    "#####################\n",
    "\n",
    "## Output an overview of the two sets of returns\n",
    "print('############## Overview ##############')\n",
    "print(\"\\033[4m\" + 'The first few rows of the portfolio\\'s daily return is:' + \"\\033[0m\")\n",
    "print(pct_return['Sharpe Optimal'].head())\n",
    "\n",
    "print('\\n')\n",
    "print(\"\\033[4m\" + 'The portfolio\\'s annualized return is: ' + \"\\033[0m\")\n",
    "\n",
    "############ Daily Return Features ############\n",
    "print('\\n')\n",
    "print('############## DAILY RETURN PROFILE ##############')\n",
    "\n",
    "performance_summary(pct_return['Sharpe Optimal'], skewness=True, kurtosis=True)\n",
    "\n",
    "############ Annual Return Features ############\n",
    "print('\\n')\n",
    "print('############## ANNUAL RETURN PROFILE ##############')\n",
    "\n",
    "performance_summary(annual_return, sharpe=True, risk_free=0.032)\n",
    "\n",
    "# Calculate cumulative returns\n",
    "# Hint: Use .cumprod()\n",
    "cum_return = (1+pct_return['Sharpe Optimal']).cumprod()\n",
    "\n",
    "# Plot the cumulative returns since inception\n",
    "plt.plot(cum_return.index, cum_return)\n",
    "plt.show()\n",
    "\n",
    "\n"
   ]
  },
  {
   "cell_type": "code",
   "execution_count": 77,
   "id": "6e973ca2",
   "metadata": {
    "pycharm": {
     "name": "#%%\n"
    }
   },
   "outputs": [
    {
     "name": "stdout",
     "output_type": "stream",
     "text": [
      "Expected annual return: 12.1%\n",
      "Annual volatility: 23.6%\n",
      "Sharpe Ratio: 0.38\n",
      "(0.120826332261001, 0.23570281404534496, 0.3768573261238723)\n",
      "############## Overview ##############\n",
      "\u001B[4mThe first few rows of the portfolio's daily return is:\u001B[0m\n",
      "Date\n",
      "2017-08-30         NaN\n",
      "2017-08-31    0.011836\n",
      "2017-09-01   -0.000825\n",
      "2017-09-05   -0.004376\n",
      "2017-09-06    0.000493\n",
      "Name: Volatility Optimal, dtype: float64\n",
      "\n",
      "\n",
      "\u001B[4mThe portfolio's annualized return is: \u001B[0m\n",
      "2017    0.243653\n",
      "2018    0.046490\n",
      "2019    0.376090\n",
      "2020    0.237025\n",
      "2021   -0.060074\n",
      "dtype: float64\n",
      "\n",
      "\n",
      "############## DAILY RETURN PROFILE ##############\n",
      "Mean Return = 0.0007\n",
      "Volatility = 0.0148\n",
      "Skewness = -0.6971\n",
      "Kurtosis = 9.8949\n",
      "\n",
      "\n",
      "############## ANNUAL RETURN PROFILE ##############\n",
      "Mean Return = 0.1686\n",
      "Volatility = 0.1736\n",
      "Sharpe Ratio = 0.787\n"
     ]
    },
    {
     "data": {
      "text/plain": "<Figure size 640x480 with 1 Axes>",
      "image/png": "[encoded data removed]"
     },
     "metadata": {},
     "output_type": "display_data"
    }
   ],
   "source": [
    "# Obtain the efficient frontier\n",
    "ef = EfficientFrontier(mu, sigma)\n",
    "\n",
    "############## Minimum Volatility Portfolio ##############\n",
    "raw_weights = ef.min_volatility()\n",
    "\n",
    "cleaned_weights = ef.clean_weights()\n",
    "\n",
    "print(ef.portfolio_performance(verbose=True, risk_free_rate=0.032))\n",
    "\n",
    "pct_return['Volatility Optimal'] = 0\n",
    "\n",
    "for columns in pct_return:\n",
    "    if columns != 'Portfolio' and columns != 'Volatility Optimal' and columns != 'Sharpe Optimal':\n",
    "        pct_return['Volatility Optimal'] = pct_return['Volatility Optimal'] + pct_return[columns] * cleaned_weights[columns]\n",
    "\n",
    "## Calculate the annualized rate of return for all five years\n",
    "\n",
    "return2017 = (1 + pct_return.loc['2017-08-31':'2018-08-30', 'Volatility Optimal']).cumprod()[-1]-1\n",
    "return2018 = (1 + pct_return.loc['2018-08-31':'2019-08-30', 'Volatility Optimal']).cumprod()[-1]-1\n",
    "return2019 = (1 + pct_return.loc['2019-08-31':'2020-08-30', 'Volatility Optimal']).cumprod()[-1]-1\n",
    "return2020 = (1 + pct_return.loc['2020-08-31':'2021-08-30', 'Volatility Optimal']).cumprod()[-1]-1\n",
    "return2021 = (1 + pct_return.loc['2021-08-31':'2022-08-30', 'Volatility Optimal']).cumprod()[-1]-1\n",
    "\n",
    "## Create a list of annualized return and convert it into a pandas series\n",
    "annual_return = [return2017, return2018, return2019, return2020, return2021]\n",
    "annual_return = pd.Series(annual_return, copy=False, index=['2017', '2018', '2019', '2020', '2021'])\n",
    "\n",
    "#####################\n",
    "## Redo Everything ##\n",
    "#####################\n",
    "\n",
    "## Output an overview of the two sets of returns\n",
    "print('############## Overview ##############')\n",
    "print(\"\\033[4m\" + 'The first few rows of the portfolio\\'s daily return is:' + \"\\033[0m\")\n",
    "print(pct_return['Volatility Optimal'].head())\n",
    "\n",
    "print('\\n')\n",
    "print(\"\\033[4m\" + 'The portfolio\\'s annualized return is: ' + \"\\033[0m\")\n",
    "print(annual_return)\n",
    "\n",
    "############ Daily Return Features ############\n",
    "print('\\n')\n",
    "print('############## DAILY RETURN PROFILE ##############')\n",
    "\n",
    "performance_summary(pct_return['Volatility Optimal'], skewness=True, kurtosis=True)\n",
    "\n",
    "############ Annual Return Features ############\n",
    "print('\\n')\n",
    "print('############## ANNUAL RETURN PROFILE ##############')\n",
    "\n",
    "performance_summary(annual_return, sharpe=True, risk_free=0.032)\n",
    "\n",
    "# Calculate cumulative returns\n",
    "# Hint: Use .cumprod()\n",
    "cum_return = (1+pct_return['Volatility Optimal']).cumprod()\n",
    "\n",
    "# Plot the cumulative returns since inception\n",
    "plt.plot(cum_return.index, cum_return)\n",
    "plt.show()\n"
   ]
  },
  {
   "cell_type": "markdown",
   "source": [
    "### 4. [Optional Bonus] With PyPortfolioOpt, how can you further improve your all-weather portfolio construction? Hint: The Black-Litterman model (https://pyportfolioopt.readthedocs.io/en/latest/BlackLitterman.html) to express subjective views and L2 regularisation to alleviate extreme portfolio allocation (i.e., weights)."
   ],
   "metadata": {
    "collapsed": false,
    "pycharm": {
     "name": "#%% md\n"
    }
   }
  },
  {
   "cell_type": "code",
   "execution_count": null,
   "outputs": [],
   "source": [],
   "metadata": {
    "collapsed": false,
    "pycharm": {
     "name": "#%%\n"
    }
   }
  }
 ],
 "metadata": {
  "kernelspec": {
   "display_name": "Python 3 (ipykernel)",
   "language": "python",
   "name": "python3"
  },
  "language_info": {
   "codemirror_mode": {
    "name": "ipython",
    "version": 3
   },
   "file_extension": ".py",
   "mimetype": "text/x-python",
   "name": "python",
   "nbconvert_exporter": "python",
   "pygments_lexer": "ipython3",
   "version": "3.8.5"
  }
 },
 "nbformat": 4,
 "nbformat_minor": 5
}