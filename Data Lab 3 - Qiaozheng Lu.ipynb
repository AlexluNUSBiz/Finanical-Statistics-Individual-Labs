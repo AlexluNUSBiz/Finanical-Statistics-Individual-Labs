{
 "cells": [
  {
   "cell_type": "markdown",
   "id": "aee8dacf",
   "metadata": {
    "pycharm": {
     "name": "#%% md\n"
    }
   },
   "source": [
    "# Data lab 3 - Portfolio Value-at-Risk\n",
    "\n",
    "#### Note 1: Review what you have learned in Data lab 2, DataCamp assignments, and in-class sample code.\n",
    "#### Note 2: Chapter \"Value at Risk\" of DataCamp course \"Introduction to Portfolio Risk Management in Python\"  is a useful reference.\n",
    "#### Note 3: This note serves as a guide. You are free to tinker with it! "
   ]
  },
  {
   "cell_type": "markdown",
   "id": "2e94cd08",
   "metadata": {
    "pycharm": {
     "name": "#%% md\n"
    }
   },
   "source": [
    "### 1. Revisit the all-weather portfolio you crafted. Put the portfolio daily and cumulative returns of the three portfolios (i.e., equally-weighted, maximum Sharpe, or minimum volatility) side-by-side in a dataframe.\n",
    "\n",
    "#### If you have attempted the optional bonus, why not include the portfolios with L2 regularization and Black-Litterman model too."
   ]
  },
  {
   "cell_type": "code",
   "execution_count": 46,
   "id": "36df558e-7777-4fc7-93f5-35f46697aa63",
   "metadata": {
    "pycharm": {
     "name": "#%%\n"
    }
   },
   "outputs": [
    {
     "name": "stdout",
     "output_type": "stream",
     "text": [
      "[*********************100%***********************]  10 of 10 completed\n"
     ]
    }
   ],
   "source": [
    "# Import the necessary packages\n",
    "import yfinance as yf\n",
    "import datetime as dt \n",
    "import numpy as np\n",
    "import pandas as pd\n",
    "import matplotlib.pyplot as plt\n",
    "\n",
    "# Place the list of stocks that form your all-weather portfolio in Data Lab 2\n",
    "# Draw data for the past five years\n",
    "symbols_list = [\"AAPL\", \"AMZN\", \"GOOG\", \"BP\", \"KMI\", \"BABA\", \"TCEHY\", \"BYDDY\", \"TSLA\", \"JPM\"] ## List of stocks picked\n",
    "\n",
    "start = dt.datetime(2017,8,31)      ## Specify the starting point of historical price\n",
    "end = dt.datetime(2022,8,31)      ## Specify the ending point of historical price\n",
    "\n",
    "price = yf.download(symbols_list, start=start, end=end)['Adj Close']      ## Download the price data and keep only the adjusted closing price\n",
    "\n",
    "\n",
    "# Calculate return using method pct_change\n",
    "return_df = price.pct_change()\n",
    "\n",
    "# function that takes portfolio weights and creates a time-series of daily portfolio returns\n",
    "def portfolio_return_series(daily_returns, weights):\n",
    "\n",
    "    '''\n",
    "    INPUTS\n",
    "    daily returns: dataframe of daily returns. Each ticker column contains the series of daily returns for the ticker\n",
    "    weights: numpy array of the portfolio weight on each ticker (sorted in ascending order)\n",
    "\n",
    "    OUTPUTS\n",
    "    portfolio_daily_returns: the portfolio return series given the weights\n",
    "    portfolio_cumulative_returns: the portfolio cumulative return series given the weights\n",
    "\n",
    "    '''\n",
    "\n",
    "    # Create portfolio daily returns\n",
    "    port_return = daily_returns.dot(weights)\n",
    "\n",
    "    # Calculate cumulative returns\n",
    "    cuml_return = (1 + port_return).cumprod() - 1\n",
    "\n",
    "    return port_return, cuml_return"
   ]
  },
  {
   "cell_type": "code",
   "execution_count": 4,
   "id": "46c06790",
   "metadata": {
    "pycharm": {
     "name": "#%%\n"
    }
   },
   "outputs": [],
   "source": [
    "# Import the packages\n",
    "from pypfopt import risk_models\n",
    "from pypfopt import expected_returns\n",
    "from pypfopt.efficient_frontier import EfficientFrontier"
   ]
  },
  {
   "cell_type": "markdown",
   "id": "31efa4ea",
   "metadata": {
    "pycharm": {
     "name": "#%% md\n"
    }
   },
   "source": [
    "The Maximum Sharpe Portfolio"
   ]
  },
  {
   "cell_type": "code",
   "execution_count": 47,
   "id": "7d37da38",
   "metadata": {
    "pycharm": {
     "name": "#%%\n"
    }
   },
   "outputs": [
    {
     "name": "stdout",
     "output_type": "stream",
     "text": [
      "[0.5468  0.      0.      0.      0.16437 0.      0.      0.      0.\n",
      " 0.28882]\n"
     ]
    }
   ],
   "source": [
    "# Calculate expected returns mu \n",
    "mu = expected_returns.mean_historical_return(price)\n",
    "\n",
    "# Calculate the covariance matrix S\n",
    "sigma = risk_models.sample_cov(price)\n",
    "\n",
    "# Obtain the efficient frontier\n",
    "ef = EfficientFrontier(mu, sigma)\n",
    "\n",
    "# Calculate weights for the maximum Sharpe ratio portfolio\n",
    "ef.max_sharpe()\n",
    "weights_sharpe = np.array(list(ef.clean_weights().values()))\n",
    "\n",
    "# Inspect the calculated weights\n",
    "print(weights_sharpe)"
   ]
  },
  {
   "cell_type": "markdown",
   "id": "3cec4216",
   "metadata": {
    "pycharm": {
     "name": "#%% md\n"
    }
   },
   "source": [
    "The minimum volatility portfolio"
   ]
  },
  {
   "cell_type": "code",
   "execution_count": 48,
   "id": "2c55bb7f",
   "metadata": {
    "pycharm": {
     "name": "#%%\n"
    }
   },
   "outputs": [
    {
     "name": "stdout",
     "output_type": "stream",
     "text": [
      "[0.07544 0.18424 0.00156 0.0606  0.00593 0.16251 0.16896 0.24302 0.09775\n",
      " 0.     ]\n"
     ]
    }
   ],
   "source": [
    "# Obtain the efficient frontier\n",
    "ef = EfficientFrontier(mu, sigma)\n",
    "\n",
    "# Calculate weights for the minimum volatility portfolio\n",
    "ef.min_volatility()\n",
    "weights_vol = np.array(list(ef.clean_weights().values()))\n",
    "\n",
    "# Inspect the calculated weights\n",
    "print(weights_vol)"
   ]
  },
  {
   "cell_type": "code",
   "execution_count": 49,
   "id": "47167c00",
   "metadata": {
    "pycharm": {
     "name": "#%%\n"
    }
   },
   "outputs": [
    {
     "data": {
      "text/html": [
       "<div>\n",
       "<style scoped>\n",
       "    .dataframe tbody tr th:only-of-type {\n",
       "        vertical-align: middle;\n",
       "    }\n",
       "\n",
       "    .dataframe tbody tr th {\n",
       "        vertical-align: top;\n",
       "    }\n",
       "\n",
       "    .dataframe thead th {\n",
       "        text-align: right;\n",
       "    }\n",
       "</style>\n",
       "<table border=\"1\" class=\"dataframe\">\n",
       "  <thead>\n",
       "    <tr style=\"text-align: right;\">\n",
       "      <th></th>\n",
       "      <th>Equal(R)</th>\n",
       "      <th>Sharpe(R)</th>\n",
       "      <th>Volatility(R)</th>\n",
       "      <th>Equal(C)</th>\n",
       "      <th>Sharpe(C)</th>\n",
       "      <th>Volatility(C)</th>\n",
       "    </tr>\n",
       "    <tr>\n",
       "      <th>Date</th>\n",
       "      <th></th>\n",
       "      <th></th>\n",
       "      <th></th>\n",
       "      <th></th>\n",
       "      <th></th>\n",
       "      <th></th>\n",
       "    </tr>\n",
       "  </thead>\n",
       "  <tbody>\n",
       "    <tr>\n",
       "      <th>2017-08-31</th>\n",
       "      <td>0.006007</td>\n",
       "      <td>0.003172</td>\n",
       "      <td>0.008547</td>\n",
       "      <td>0.006007</td>\n",
       "      <td>0.003172</td>\n",
       "      <td>0.008547</td>\n",
       "    </tr>\n",
       "    <tr>\n",
       "      <th>2017-09-01</th>\n",
       "      <td>-0.000420</td>\n",
       "      <td>0.000036</td>\n",
       "      <td>0.000431</td>\n",
       "      <td>0.005584</td>\n",
       "      <td>0.003208</td>\n",
       "      <td>0.008982</td>\n",
       "    </tr>\n",
       "    <tr>\n",
       "      <th>2017-09-05</th>\n",
       "      <td>-0.011321</td>\n",
       "      <td>-0.013071</td>\n",
       "      <td>-0.011304</td>\n",
       "      <td>-0.005800</td>\n",
       "      <td>-0.009905</td>\n",
       "      <td>-0.002423</td>\n",
       "    </tr>\n",
       "    <tr>\n",
       "      <th>2017-09-06</th>\n",
       "      <td>0.002934</td>\n",
       "      <td>-0.001980</td>\n",
       "      <td>0.003881</td>\n",
       "      <td>-0.002882</td>\n",
       "      <td>-0.011865</td>\n",
       "      <td>0.001448</td>\n",
       "    </tr>\n",
       "    <tr>\n",
       "      <th>2017-09-07</th>\n",
       "      <td>0.002413</td>\n",
       "      <td>0.003993</td>\n",
       "      <td>-0.002480</td>\n",
       "      <td>-0.000476</td>\n",
       "      <td>-0.007920</td>\n",
       "      <td>-0.001035</td>\n",
       "    </tr>\n",
       "  </tbody>\n",
       "</table>\n",
       "</div>"
      ],
      "text/plain": [
       "            Equal(R)  Sharpe(R)  Volatility(R)  Equal(C)  Sharpe(C)  \\\n",
       "Date                                                                  \n",
       "2017-08-31  0.006007   0.003172       0.008547  0.006007   0.003172   \n",
       "2017-09-01 -0.000420   0.000036       0.000431  0.005584   0.003208   \n",
       "2017-09-05 -0.011321  -0.013071      -0.011304 -0.005800  -0.009905   \n",
       "2017-09-06  0.002934  -0.001980       0.003881 -0.002882  -0.011865   \n",
       "2017-09-07  0.002413   0.003993      -0.002480 -0.000476  -0.007920   \n",
       "\n",
       "            Volatility(C)  \n",
       "Date                       \n",
       "2017-08-31       0.008547  \n",
       "2017-09-01       0.008982  \n",
       "2017-09-05      -0.002423  \n",
       "2017-09-06       0.001448  \n",
       "2017-09-07      -0.001035  "
      ]
     },
     "execution_count": 49,
     "metadata": {},
     "output_type": "execute_result"
    }
   ],
   "source": [
    "# 1. Daily portfolio returns for the equally-weighted portfolio\n",
    "weights_equal = np.array([0.1]*10)\n",
    "\n",
    "# Extract from the function output for daily returns and cumulative returns\n",
    "return_equal, cuml_equal = portfolio_return_series(return_df, weights_equal)\n",
    "\n",
    "# 2. Daily portfolio returns for the maximum Sharpe portfolio\n",
    "# Extract from the function output for daily returns and cumulative returns\n",
    "return_sharpe, cuml_sharpe = portfolio_return_series(return_df, weights_sharpe)\n",
    "\n",
    "# 3. Daily portfolio returns for the minimum volatility portfolio\n",
    "# Extract from the function output for daily returns and cumulative returns\n",
    "return_vol, cuml_vol = portfolio_return_series(return_df, weights_vol)\n",
    "\n",
    "# Merge the six series side-by-side into a dataframe\n",
    "# Note the index is date\n",
    "port_returns = pd.concat([return_equal, return_sharpe, return_vol,\n",
    "                         cuml_equal, cuml_sharpe, cuml_vol], axis=1).dropna()\n",
    "\n",
    "# Rename column names\n",
    "names = ['Equal(R)', 'Sharpe(R)', 'Volatility(R)',\n",
    "         'Equal(C)', 'Sharpe(C)', 'Volatility(C)']\n",
    "\n",
    "port_returns.columns = names\n",
    "\n",
    "# Inspect the first five rows of the dataframe (e.g., portfolio_returns)\n",
    "port_returns.head()"
   ]
  },
  {
   "cell_type": "markdown",
   "id": "a146d5ef",
   "metadata": {
    "pycharm": {
     "name": "#%% md\n"
    }
   },
   "source": [
    "### 2. Examine visually the drawdown behavior of each portfolio.\n"
   ]
  },
  {
   "cell_type": "code",
   "execution_count": 50,
   "id": "8b6472ac",
   "metadata": {
    "pycharm": {
     "name": "#%%\n"
    }
   },
   "outputs": [
    {
     "data": {
      "text/plain": [
       "Text(0.5, 1.0, 'Volatility Optimal')"
      ]
     },
     "execution_count": 50,
     "metadata": {},
     "output_type": "execute_result"
    },
    {
     "data": {
      "image/png": "[encoded data removed]",
      "text/plain": [
       "<Figure size 640x1000 with 3 Axes>"
      ]
     },
     "metadata": {},
     "output_type": "display_data"
    }
   ],
   "source": [
    "# function that takes portfolio weights and creates a time-series of daily portfolio returns\n",
    "def portfolio_drawdown(cumulative_portfolio_returns):\n",
    "    \n",
    "    ''' \n",
    "    INPUTS\n",
    "    cumulative_portfolio_returns: the portfolio cumulative return series\n",
    "    \n",
    "    OUTPUTS\n",
    "    percentage drawdown series\n",
    "    \n",
    "    '''    \n",
    "\n",
    "    # Calculate the running maximum\n",
    "    running_max = np.maximum.accumulate(np.array(cumulative_portfolio_returns))\n",
    "\n",
    "    # Ensure the value never drops below 1\n",
    "    running_max[running_max < 1] = 1\n",
    "\n",
    "    # Calculate the percentage drawdown\n",
    "    drawdown = cumulative_portfolio_returns / running_max - 1\n",
    "    \n",
    "    return drawdown\n",
    "\n",
    "# Adding adjustments to the plots later\n",
    "fig, axs = plt.subplots(3)      ## Use three subplots\n",
    "fig.suptitle('Portfolio Drawdowns')      ## Set the major title for the three subplots\n",
    "fig.set_figheight(10)      ## Set the height of the overall plot larger so that each subplot is visible\n",
    "\n",
    "# Plot the first subplot for equally weighted portfolio\n",
    "axs[0].plot(port_returns.index, portfolio_drawdown(port_returns['Equal(C)']))\n",
    "axs[0].set_title('Equal weighted')\n",
    "\n",
    "# Plot the second for the sharpe optimal portfolio\n",
    "axs[1].plot(port_returns.index, portfolio_drawdown(port_returns['Sharpe(C)']))\n",
    "axs[1].set_title('Sharpe Optimal')\n",
    "\n",
    "# Plot the third for the volatility optimal portfolio\n",
    "axs[2].plot(port_returns.index, portfolio_drawdown(port_returns['Volatility(C)']))\n",
    "axs[2].set_title('Volatility Optimal')\n"
   ]
  },
  {
   "cell_type": "markdown",
   "id": "b6b44e3f",
   "metadata": {
    "pycharm": {
     "name": "#%% md\n"
    }
   },
   "source": [
    "### 3. Calculate the Value-at-Risk of each portfolio at 99% using the empirical (historical) distribution and theoretical distribution. Create graphs that show the empirical distribution with two vertical lines, representing the Value-at-Risk at 99% derived from the empirical and theoretical distribution, respectively.\n"
   ]
  },
  {
   "cell_type": "code",
   "execution_count": 53,
   "id": "4d798629",
   "metadata": {
    "pycharm": {
     "name": "#%%\n"
    }
   },
   "outputs": [
    {
     "data": {
      "image/png": "[encoded data removed]",
      "text/plain": [
       "<Figure size 640x480 with 1 Axes>"
      ]
     },
     "metadata": {},
     "output_type": "display_data"
    },
    {
     "data": {
      "image/png": "[encoded data removed]",
      "text/plain": [
       "<Figure size 640x480 with 1 Axes>"
      ]
     },
     "metadata": {},
     "output_type": "display_data"
    },
    {
     "data": {
      "image/png": "[encoded data removed]",
      "text/plain": [
       "<Figure size 640x480 with 1 Axes>"
      ]
     },
     "metadata": {},
     "output_type": "display_data"
    },
    {
     "data": {
      "text/plain": [
       "(1, -0.04505305629760574, -0.03825483838278114)"
      ]
     },
     "execution_count": 53,
     "metadata": {},
     "output_type": "execute_result"
    }
   ],
   "source": [
    "# Import norm from scipy.stats\n",
    "from scipy.stats import norm\n",
    "\n",
    "# function that takes portfolio weights and creates a time-series of daily portfolio returns\n",
    "def portfolio_var(daily_portfolio_returns, level):\n",
    "    \n",
    "    ''' \n",
    "    INPUTS\n",
    "    daily_portfolio_returns: the portfolio daily return series\n",
    "    level: tail risk at 90%, 95%, or 99% ## enter 90 for 90% and so on!\n",
    "    \n",
    "    OUTPUT\n",
    "    Empirical VaR: Value at Risk of the portfolio using the empirical distribution \n",
    "                   at the specified level (e.g., 90%, 95%, or 99%)\n",
    "    Theoretical VaR: Value at Risk of the portfolio using mathematical formulas (sampling distribution) \n",
    "                     at the specified level (e.g., 90%, 95%, or 99%)\n",
    "    Plot object: empirical distribution of returns with \n",
    "                 two lines indicating the empirical and theoretical VaRs at the specified level\n",
    "    \n",
    "    '''    \n",
    "\n",
    "    # Calculate the tail risk (i.e., 100 - level)\n",
    "    tail_risk = 100 - level\n",
    "    \n",
    "    # Calculate empirical historical VaR at specified level\n",
    "    var_empirical = np.percentile(daily_portfolio_returns, tail_risk)\n",
    "    \n",
    "    # Calculate theoretical VaR at specified level\n",
    "    # Note the norm.ppf function takes argument tail risk of 99% in 0.99, instead of 99\n",
    "    var_theoretical = norm.ppf(tail_risk/100,\n",
    "                               np.mean(daily_portfolio_returns),\n",
    "                               np.std(daily_portfolio_returns))\n",
    "\n",
    "    # Plot the probability of each sorted return quantile\n",
    "    plt.hist(daily_portfolio_returns, 30, density=True, alpha=0.75)\n",
    "\n",
    "    plt.title(daily_portfolio_returns.name)\n",
    "    # Denote the VaR 99 quantile and plot the vertical lines\n",
    "    plt.axvline(x=var_empirical, color='r', linestyle='-')\n",
    "    plt.axvline(x=var_theoretical, color='g', linestyle='-')\n",
    "    plt.show()\n",
    "    \n",
    "    return tail_risk, var_empirical, var_theoretical\n",
    "\n",
    "# Call the function to calculate and plot VaR for the Maximum Sharpe Portfolio at 99%\n",
    "portfolio_var(port_returns['Sharpe(R)'], 99)\n",
    "\n",
    "# Call the function to calculate and plot VaR for the Minimum Volatility Portfolio at 99%\n",
    "portfolio_var(port_returns['Volatility(R)'], 99)\n",
    "\n",
    "# Call the function to calculate and plot VaR for the Equally Weighted Portfolio at 99%\n",
    "portfolio_var(port_returns['Equal(R)'], 99)"
   ]
  },
  {
   "cell_type": "markdown",
   "id": "94c6c373",
   "metadata": {
    "pycharm": {
     "name": "#%% md\n"
    }
   },
   "source": [
    "### 4. Is the portfolio return for the maximum Sharpe portfolio statistically different from that of the equally-weighted portfolio?"
   ]
  },
  {
   "cell_type": "code",
   "execution_count": 57,
   "id": "7f8c4767",
   "metadata": {
    "pycharm": {
     "name": "#%%\n"
    }
   },
   "outputs": [
    {
     "data": {
      "text/html": [
       "<div>\n",
       "<style scoped>\n",
       "    .dataframe tbody tr th:only-of-type {\n",
       "        vertical-align: middle;\n",
       "    }\n",
       "\n",
       "    .dataframe tbody tr th {\n",
       "        vertical-align: top;\n",
       "    }\n",
       "\n",
       "    .dataframe thead th {\n",
       "        text-align: right;\n",
       "    }\n",
       "</style>\n",
       "<table border=\"1\" class=\"dataframe\">\n",
       "  <thead>\n",
       "    <tr style=\"text-align: right;\">\n",
       "      <th></th>\n",
       "      <th>T</th>\n",
       "      <th>dof</th>\n",
       "      <th>alternative</th>\n",
       "      <th>p-val</th>\n",
       "      <th>CI99%</th>\n",
       "      <th>cohen-d</th>\n",
       "      <th>BF10</th>\n",
       "      <th>power</th>\n",
       "    </tr>\n",
       "  </thead>\n",
       "  <tbody>\n",
       "    <tr>\n",
       "      <th>T-test</th>\n",
       "      <td>1.539</td>\n",
       "      <td>2514</td>\n",
       "      <td>two-sided</td>\n",
       "      <td>0.124</td>\n",
       "      <td>[-0.0007871833984241427, 0.0031210773604091043]</td>\n",
       "      <td>0.061</td>\n",
       "      <td>0.146</td>\n",
       "      <td>0.337</td>\n",
       "    </tr>\n",
       "  </tbody>\n",
       "</table>\n",
       "</div>"
      ],
      "text/plain": [
       "            T   dof alternative  p-val  \\\n",
       "T-test  1.539  2514   two-sided  0.124   \n",
       "\n",
       "                                                  CI99%  cohen-d   BF10  power  \n",
       "T-test  [-0.0007871833984241427, 0.0031210773604091043]    0.061  0.146  0.337  "
      ]
     },
     "execution_count": 57,
     "metadata": {},
     "output_type": "execute_result"
    }
   ],
   "source": [
    "# Import pingouin - a simple but powerful statistical package\n",
    "import pingouin as pg\n",
    "\n",
    "# Conduct an independent t-test on equally-weighted portfolio and max sharpe portfolio\n",
    "# The null hypothesis is that their mean returns are equal\n",
    "\n",
    "independent = pg.ttest(port_returns['Sharpe(R)'], port_returns['Volatility(R)'], confidence=0.99).round(3)\n",
    "independent"
   ]
  },
  {
   "cell_type": "markdown",
   "id": "0ba9b4c2",
   "metadata": {
    "pycharm": {
     "name": "#%% md\n"
    }
   },
   "source": [
    "##### Qiaozheng Lu: As shown in the output, the independent t-test yields a relatively high p value at 0.124, meaning that it is hard for us to reject the null. Hence, the independent t-test suggests that the means of the daily returns of teh equally weighted and the sharpe maximized portfolio is not significantly different from each other."
   ]
  },
  {
   "cell_type": "code",
   "execution_count": 58,
   "id": "c41d1ff1",
   "metadata": {
    "pycharm": {
     "name": "#%%\n"
    }
   },
   "outputs": [
    {
     "data": {
      "text/html": [
       "<div>\n",
       "<style scoped>\n",
       "    .dataframe tbody tr th:only-of-type {\n",
       "        vertical-align: middle;\n",
       "    }\n",
       "\n",
       "    .dataframe tbody tr th {\n",
       "        vertical-align: top;\n",
       "    }\n",
       "\n",
       "    .dataframe thead th {\n",
       "        text-align: right;\n",
       "    }\n",
       "</style>\n",
       "<table border=\"1\" class=\"dataframe\">\n",
       "  <thead>\n",
       "    <tr style=\"text-align: right;\">\n",
       "      <th></th>\n",
       "      <th>T</th>\n",
       "      <th>dof</th>\n",
       "      <th>alternative</th>\n",
       "      <th>p-val</th>\n",
       "      <th>CI99%</th>\n",
       "      <th>cohen-d</th>\n",
       "      <th>BF10</th>\n",
       "      <th>power</th>\n",
       "    </tr>\n",
       "  </thead>\n",
       "  <tbody>\n",
       "    <tr>\n",
       "      <th>T-test</th>\n",
       "      <td>2.713</td>\n",
       "      <td>1257</td>\n",
       "      <td>two-sided</td>\n",
       "      <td>0.007</td>\n",
       "      <td>[5.714274368440398e-05, 0.002276751218300559]</td>\n",
       "      <td>0.061</td>\n",
       "      <td>1.234</td>\n",
       "      <td>0.585</td>\n",
       "    </tr>\n",
       "  </tbody>\n",
       "</table>\n",
       "</div>"
      ],
      "text/plain": [
       "            T   dof alternative  p-val  \\\n",
       "T-test  2.713  1257   two-sided  0.007   \n",
       "\n",
       "                                                CI99%  cohen-d   BF10  power  \n",
       "T-test  [5.714274368440398e-05, 0.002276751218300559]    0.061  1.234  0.585  "
      ]
     },
     "execution_count": 58,
     "metadata": {},
     "output_type": "execute_result"
    }
   ],
   "source": [
    "# Print the paired test results\n",
    "paired = pg.ttest(port_returns['Sharpe(R)'], port_returns['Volatility(R)'],\n",
    "         paired=True, confidence=0.99).round(3)\n",
    "paired"
   ]
  },
  {
   "cell_type": "markdown",
   "id": "b2b46b66",
   "metadata": {
    "pycharm": {
     "name": "#%% md\n"
    }
   },
   "source": [
    "##### Qiaozheng Lu: The paired test suggest a totally different story. With a p value of 0.007, we can reject the null at a 1\\% confidence level. The mean daily return is highly probable to differ between the two allocations.\n",
    "\n",
    "##### Qiaozheng Lu: Also, the difference in the output of two tests suggests that the two allocation is not independent. Instead, they can be highly correlated so that the paired test is more countable.\n"
   ]
  },
  {
   "cell_type": "markdown",
   "id": "51b567ff",
   "metadata": {
    "pycharm": {
     "name": "#%% md\n"
    }
   },
   "source": [
    "#### Optional Bonus: Additional Test for The Curious: The equality of mean portfolio returns across equally weighted, maximum-Sharpe, and minimum-volatility portfolios."
   ]
  },
  {
   "cell_type": "code",
   "execution_count": 158,
   "id": "e84049ea",
   "metadata": {
    "pycharm": {
     "name": "#%%\n"
    }
   },
   "outputs": [
    {
     "data": {
      "text/plain": [
       "          Date      \n",
       "Equal(R)  2017-08-31    0.006007\n",
       "          2017-09-01   -0.000420\n",
       "          2017-09-05   -0.011321\n",
       "          2017-09-06    0.002934\n",
       "          2017-09-07    0.002413\n",
       "dtype: float64"
      ]
     },
     "execution_count": 158,
     "metadata": {},
     "output_type": "execute_result"
    }
   ],
   "source": [
    "# Strip out the daily returns to form a new dataframe\n",
    "port_returns_daily = port_returns.iloc[: , 0: 3]\n",
    "\n",
    "# Reshape the dataframe, such that we have a column for portfolio type\n",
    "port_returns_daily = port_returns_daily.unstack()\n",
    "port_returns_daily.head()\n"
   ]
  },
  {
   "cell_type": "code",
   "execution_count": 159,
   "id": "b23b85a1",
   "metadata": {
    "pycharm": {
     "name": "#%%\n"
    }
   },
   "outputs": [
    {
     "data": {
      "text/html": [
       "<div>\n",
       "<style scoped>\n",
       "    .dataframe tbody tr th:only-of-type {\n",
       "        vertical-align: middle;\n",
       "    }\n",
       "\n",
       "    .dataframe tbody tr th {\n",
       "        vertical-align: top;\n",
       "    }\n",
       "\n",
       "    .dataframe thead th {\n",
       "        text-align: right;\n",
       "    }\n",
       "</style>\n",
       "<table border=\"1\" class=\"dataframe\">\n",
       "  <thead>\n",
       "    <tr style=\"text-align: right;\">\n",
       "      <th></th>\n",
       "      <th>Type</th>\n",
       "      <th>Daily Return</th>\n",
       "    </tr>\n",
       "    <tr>\n",
       "      <th>Date</th>\n",
       "      <th></th>\n",
       "      <th></th>\n",
       "    </tr>\n",
       "  </thead>\n",
       "  <tbody>\n",
       "    <tr>\n",
       "      <th>2017-08-31</th>\n",
       "      <td>Equal(R)</td>\n",
       "      <td>0.006007</td>\n",
       "    </tr>\n",
       "    <tr>\n",
       "      <th>2017-09-01</th>\n",
       "      <td>Equal(R)</td>\n",
       "      <td>-0.000420</td>\n",
       "    </tr>\n",
       "    <tr>\n",
       "      <th>2017-09-05</th>\n",
       "      <td>Equal(R)</td>\n",
       "      <td>-0.011321</td>\n",
       "    </tr>\n",
       "    <tr>\n",
       "      <th>2017-09-06</th>\n",
       "      <td>Equal(R)</td>\n",
       "      <td>0.002934</td>\n",
       "    </tr>\n",
       "    <tr>\n",
       "      <th>2017-09-07</th>\n",
       "      <td>Equal(R)</td>\n",
       "      <td>0.002413</td>\n",
       "    </tr>\n",
       "  </tbody>\n",
       "</table>\n",
       "</div>"
      ],
      "text/plain": [
       "                Type  Daily Return\n",
       "Date                              \n",
       "2017-08-31  Equal(R)      0.006007\n",
       "2017-09-01  Equal(R)     -0.000420\n",
       "2017-09-05  Equal(R)     -0.011321\n",
       "2017-09-06  Equal(R)      0.002934\n",
       "2017-09-07  Equal(R)      0.002413"
      ]
     },
     "execution_count": 159,
     "metadata": {},
     "output_type": "execute_result"
    }
   ],
   "source": [
    "# Turn multiindex into columns\n",
    "# Hint: reset the index with dataframe's method .reset_index()\n",
    "port_returns_daily = port_returns_daily.reset_index()\n",
    "\n",
    "# Set the Date column as the new index\n",
    "port_returns_daily.set_index('Date', inplace=True)\n",
    "\n",
    "# Rename column names\n",
    "names2 = ['Type', 'Daily Return']\n",
    "\n",
    "port_returns_daily.columns = names2\n",
    "\n",
    "# Inspect dataframe\n",
    "port_returns_daily.head()"
   ]
  },
  {
   "cell_type": "code",
   "execution_count": 161,
   "id": "2c01460e",
   "metadata": {
    "pycharm": {
     "name": "#%%\n"
    }
   },
   "outputs": [
    {
     "data": {
      "text/html": [
       "<div>\n",
       "<style scoped>\n",
       "    .dataframe tbody tr th:only-of-type {\n",
       "        vertical-align: middle;\n",
       "    }\n",
       "\n",
       "    .dataframe tbody tr th {\n",
       "        vertical-align: top;\n",
       "    }\n",
       "\n",
       "    .dataframe thead th {\n",
       "        text-align: right;\n",
       "    }\n",
       "</style>\n",
       "<table border=\"1\" class=\"dataframe\">\n",
       "  <thead>\n",
       "    <tr style=\"text-align: right;\">\n",
       "      <th></th>\n",
       "      <th>Source</th>\n",
       "      <th>SS</th>\n",
       "      <th>DF</th>\n",
       "      <th>MS</th>\n",
       "      <th>F</th>\n",
       "      <th>p-unc</th>\n",
       "      <th>np2</th>\n",
       "    </tr>\n",
       "  </thead>\n",
       "  <tbody>\n",
       "    <tr>\n",
       "      <th>0</th>\n",
       "      <td>Type</td>\n",
       "      <td>0.001</td>\n",
       "      <td>2</td>\n",
       "      <td>0.0</td>\n",
       "      <td>1.398</td>\n",
       "      <td>0.247</td>\n",
       "      <td>0.001</td>\n",
       "    </tr>\n",
       "    <tr>\n",
       "      <th>1</th>\n",
       "      <td>Within</td>\n",
       "      <td>1.266</td>\n",
       "      <td>3771</td>\n",
       "      <td>0.0</td>\n",
       "      <td>NaN</td>\n",
       "      <td>NaN</td>\n",
       "      <td>NaN</td>\n",
       "    </tr>\n",
       "  </tbody>\n",
       "</table>\n",
       "</div>"
      ],
      "text/plain": [
       "   Source     SS    DF   MS      F  p-unc    np2\n",
       "0    Type  0.001     2  0.0  1.398  0.247  0.001\n",
       "1  Within  1.266  3771  0.0    NaN    NaN    NaN"
      ]
     },
     "execution_count": 161,
     "metadata": {},
     "output_type": "execute_result"
    }
   ],
   "source": [
    "# Test the equality of portfolio mean returns across three portfolio construction methods\n",
    "# The null hypothesis is that their mean returns are equal\n",
    "anova = pg.anova(data=port_returns_daily, dv='Daily Return', between='Type', detailed=True).round(3)\n",
    "\n",
    "anova\n"
   ]
  },
  {
   "cell_type": "markdown",
   "id": "7219b901",
   "metadata": {
    "pycharm": {
     "name": "#%% md\n"
    }
   },
   "source": [
    "##### Qiaozheng Lu: As shown in the output table, the uncorrected p-value is 0.247, which is too high for us to reject the null. This ANOVA analysis suggests that the mean of the daily return does not significantly vary across different allocation methods.\n",
    "\n",
    "##### Qiaozheng Lu: In the meantime, given the difference in the two t-tests, the correlation between those allocations can introduce bias to the tests. Is it possible that the correlation is messing the ANOVA analysis? More in-depth inspect shown in the next question."
   ]
  },
  {
   "cell_type": "markdown",
   "id": "28e60035",
   "metadata": {
    "pycharm": {
     "name": "#%% md\n"
    }
   },
   "source": [
    "### 5. Optional Bonus. What other hypotheses would you like to test? How do you test them? What do you find?"
   ]
  },
  {
   "cell_type": "markdown",
   "id": "1902981f",
   "metadata": {
    "pycharm": {
     "name": "#%% md\n"
    }
   },
   "source": [
    "#### Q1: Is the portfolios is significantly better / worse than the market index?\n",
    "Here is how I have done it:"
   ]
  },
  {
   "cell_type": "code",
   "execution_count": 78,
   "id": "b9b07ebc",
   "metadata": {
    "pycharm": {
     "name": "#%%\n"
    }
   },
   "outputs": [
    {
     "name": "stdout",
     "output_type": "stream",
     "text": [
      "[*********************100%***********************]  1 of 1 completed\n"
     ]
    },
    {
     "data": {
      "text/html": [
       "<div>\n",
       "<style scoped>\n",
       "    .dataframe tbody tr th:only-of-type {\n",
       "        vertical-align: middle;\n",
       "    }\n",
       "\n",
       "    .dataframe tbody tr th {\n",
       "        vertical-align: top;\n",
       "    }\n",
       "\n",
       "    .dataframe thead th {\n",
       "        text-align: right;\n",
       "    }\n",
       "</style>\n",
       "<table border=\"1\" class=\"dataframe\">\n",
       "  <thead>\n",
       "    <tr style=\"text-align: right;\">\n",
       "      <th></th>\n",
       "      <th>Equal(R)</th>\n",
       "      <th>Sharpe(R)</th>\n",
       "      <th>Volatility(R)</th>\n",
       "      <th>Market</th>\n",
       "    </tr>\n",
       "    <tr>\n",
       "      <th>Date</th>\n",
       "      <th></th>\n",
       "      <th></th>\n",
       "      <th></th>\n",
       "      <th></th>\n",
       "    </tr>\n",
       "  </thead>\n",
       "  <tbody>\n",
       "    <tr>\n",
       "      <th>2017-08-31</th>\n",
       "      <td>0.006007</td>\n",
       "      <td>0.003172</td>\n",
       "      <td>0.008547</td>\n",
       "      <td>0.006016</td>\n",
       "    </tr>\n",
       "    <tr>\n",
       "      <th>2017-09-01</th>\n",
       "      <td>-0.000420</td>\n",
       "      <td>0.000036</td>\n",
       "      <td>0.000431</td>\n",
       "      <td>0.001414</td>\n",
       "    </tr>\n",
       "    <tr>\n",
       "      <th>2017-09-05</th>\n",
       "      <td>-0.011321</td>\n",
       "      <td>-0.013071</td>\n",
       "      <td>-0.011304</td>\n",
       "      <td>-0.007182</td>\n",
       "    </tr>\n",
       "    <tr>\n",
       "      <th>2017-09-06</th>\n",
       "      <td>0.002934</td>\n",
       "      <td>-0.001980</td>\n",
       "      <td>0.003881</td>\n",
       "      <td>0.003414</td>\n",
       "    </tr>\n",
       "    <tr>\n",
       "      <th>2017-09-07</th>\n",
       "      <td>0.002413</td>\n",
       "      <td>0.003993</td>\n",
       "      <td>-0.002480</td>\n",
       "      <td>-0.000122</td>\n",
       "    </tr>\n",
       "  </tbody>\n",
       "</table>\n",
       "</div>"
      ],
      "text/plain": [
       "            Equal(R)  Sharpe(R)  Volatility(R)    Market\n",
       "Date                                                    \n",
       "2017-08-31  0.006007   0.003172       0.008547  0.006016\n",
       "2017-09-01 -0.000420   0.000036       0.000431  0.001414\n",
       "2017-09-05 -0.011321  -0.013071      -0.011304 -0.007182\n",
       "2017-09-06  0.002934  -0.001980       0.003881  0.003414\n",
       "2017-09-07  0.002413   0.003993      -0.002480 -0.000122"
      ]
     },
     "execution_count": 78,
     "metadata": {},
     "output_type": "execute_result"
    }
   ],
   "source": [
    "# Download the historical price data of the SP500 index from YFinance API\n",
    "# It's weird that there is no intuitive ticker that leads directly to the index.\n",
    "# Here I used an actively traded ETF on the SP500 as a proxy.\n",
    "sp500 = yf.download('SPY', start, end)['Adj Close']\n",
    "\n",
    "# Caluculate the daily return\n",
    "sp_return = sp500.pct_change().dropna()\n",
    "\n",
    "# Strip out the daily returns to form a new dataframe, because the codes before messed it up\n",
    "port_returns_daily = port_returns.iloc[: , 0: 3]\n",
    "\n",
    "# Concatenate\n",
    "port_returns_daily = pd.concat([port_returns_daily, sp_return], axis=1)\n",
    "\n",
    "# Rename the SP500 column\n",
    "port_returns_daily.rename(columns={'Adj Close': 'Market'}, inplace=True)\n",
    "\n",
    "# Inspect\n",
    "port_returns_daily.head()\n"
   ]
  },
  {
   "cell_type": "markdown",
   "id": "2c4574d3",
   "metadata": {
    "pycharm": {
     "name": "#%% md\n"
    }
   },
   "source": [
    "1) Equally weighted vs. Market"
   ]
  },
  {
   "cell_type": "code",
   "execution_count": 83,
   "id": "25c2bd02",
   "metadata": {
    "pycharm": {
     "name": "#%%\n"
    }
   },
   "outputs": [
    {
     "data": {
      "text/html": [
       "<div>\n",
       "<style scoped>\n",
       "    .dataframe tbody tr th:only-of-type {\n",
       "        vertical-align: middle;\n",
       "    }\n",
       "\n",
       "    .dataframe tbody tr th {\n",
       "        vertical-align: top;\n",
       "    }\n",
       "\n",
       "    .dataframe thead th {\n",
       "        text-align: right;\n",
       "    }\n",
       "</style>\n",
       "<table border=\"1\" class=\"dataframe\">\n",
       "  <thead>\n",
       "    <tr style=\"text-align: right;\">\n",
       "      <th></th>\n",
       "      <th>T</th>\n",
       "      <th>dof</th>\n",
       "      <th>alternative</th>\n",
       "      <th>p-val</th>\n",
       "      <th>CI99%</th>\n",
       "      <th>cohen-d</th>\n",
       "      <th>BF10</th>\n",
       "      <th>power</th>\n",
       "    </tr>\n",
       "  </thead>\n",
       "  <tbody>\n",
       "    <tr>\n",
       "      <th>T-test</th>\n",
       "      <td>1.572</td>\n",
       "      <td>1257</td>\n",
       "      <td>greater</td>\n",
       "      <td>0.058</td>\n",
       "      <td>[-0.00019728412300881311, inf]</td>\n",
       "      <td>0.027</td>\n",
       "      <td>0.218</td>\n",
       "      <td>0.248</td>\n",
       "    </tr>\n",
       "  </tbody>\n",
       "</table>\n",
       "</div>"
      ],
      "text/plain": [
       "            T   dof alternative  p-val                           CI99%  \\\n",
       "T-test  1.572  1257     greater  0.058  [-0.00019728412300881311, inf]   \n",
       "\n",
       "        cohen-d   BF10  power  \n",
       "T-test    0.027  0.218  0.248  "
      ]
     },
     "execution_count": 83,
     "metadata": {},
     "output_type": "execute_result"
    }
   ],
   "source": [
    "# Perform the paired t-test\n",
    "# One-sided. Alternative: Mean of Equally-weighted is greater than that of the market\n",
    "E_M = pg.ttest(port_returns_daily['Equal(R)'], port_returns_daily['Market'],\n",
    "         alternative='greater', paired=True, confidence=0.99).round(3)\n",
    "E_M"
   ]
  },
  {
   "cell_type": "markdown",
   "id": "914997e5",
   "metadata": {
    "pycharm": {
     "name": "#%% md\n"
    }
   },
   "source": [
    "##### Qiaozheng Lu: As the null is that the means are equal, the p value of 0.058 suggests that, at least on a 10\\% level, we can say that the equally-weighted portfolio is better than the market in terms of mean daily return."
   ]
  },
  {
   "cell_type": "markdown",
   "id": "9d85a27c",
   "metadata": {
    "pycharm": {
     "name": "#%% md\n"
    }
   },
   "source": [
    "2) Sharpe vs. Market"
   ]
  },
  {
   "cell_type": "code",
   "execution_count": 85,
   "id": "e9b02a25",
   "metadata": {
    "pycharm": {
     "name": "#%%\n"
    }
   },
   "outputs": [
    {
     "data": {
      "text/html": [
       "<div>\n",
       "<style scoped>\n",
       "    .dataframe tbody tr th:only-of-type {\n",
       "        vertical-align: middle;\n",
       "    }\n",
       "\n",
       "    .dataframe tbody tr th {\n",
       "        vertical-align: top;\n",
       "    }\n",
       "\n",
       "    .dataframe thead th {\n",
       "        text-align: right;\n",
       "    }\n",
       "</style>\n",
       "<table border=\"1\" class=\"dataframe\">\n",
       "  <thead>\n",
       "    <tr style=\"text-align: right;\">\n",
       "      <th></th>\n",
       "      <th>T</th>\n",
       "      <th>dof</th>\n",
       "      <th>alternative</th>\n",
       "      <th>p-val</th>\n",
       "      <th>CI99%</th>\n",
       "      <th>cohen-d</th>\n",
       "      <th>BF10</th>\n",
       "      <th>power</th>\n",
       "    </tr>\n",
       "  </thead>\n",
       "  <tbody>\n",
       "    <tr>\n",
       "      <th>T-test</th>\n",
       "      <td>3.011</td>\n",
       "      <td>1257</td>\n",
       "      <td>greater</td>\n",
       "      <td>0.001</td>\n",
       "      <td>[0.00029585987230706587, inf]</td>\n",
       "      <td>0.072</td>\n",
       "      <td>5.761</td>\n",
       "      <td>0.814</td>\n",
       "    </tr>\n",
       "  </tbody>\n",
       "</table>\n",
       "</div>"
      ],
      "text/plain": [
       "            T   dof alternative  p-val                          CI99%  \\\n",
       "T-test  3.011  1257     greater  0.001  [0.00029585987230706587, inf]   \n",
       "\n",
       "        cohen-d   BF10  power  \n",
       "T-test    0.072  5.761  0.814  "
      ]
     },
     "execution_count": 85,
     "metadata": {},
     "output_type": "execute_result"
    }
   ],
   "source": [
    "# One-sided. Alternative: Mean of Shapre is greater than that of the market\n",
    "S_M = pg.ttest(port_returns_daily['Sharpe(R)'], port_returns_daily['Market'],\n",
    "         alternative='greater', paired=True, confidence=0.99).round(3)\n",
    "S_M"
   ]
  },
  {
   "cell_type": "markdown",
   "id": "71250587",
   "metadata": {
    "pycharm": {
     "name": "#%% md\n"
    }
   },
   "source": [
    "##### Qiaozheng Lu: The sharpe optimal is definitely better than the market!!!"
   ]
  },
  {
   "cell_type": "markdown",
   "id": "1139d6f5",
   "metadata": {
    "pycharm": {
     "name": "#%% md\n"
    }
   },
   "source": [
    "3) Volatility vs. Market"
   ]
  },
  {
   "cell_type": "code",
   "execution_count": 89,
   "id": "9cea4e0a",
   "metadata": {
    "pycharm": {
     "name": "#%%\n"
    }
   },
   "outputs": [
    {
     "data": {
      "text/html": [
       "<div>\n",
       "<style scoped>\n",
       "    .dataframe tbody tr th:only-of-type {\n",
       "        vertical-align: middle;\n",
       "    }\n",
       "\n",
       "    .dataframe tbody tr th {\n",
       "        vertical-align: top;\n",
       "    }\n",
       "\n",
       "    .dataframe thead th {\n",
       "        text-align: right;\n",
       "    }\n",
       "</style>\n",
       "<table border=\"1\" class=\"dataframe\">\n",
       "  <thead>\n",
       "    <tr style=\"text-align: right;\">\n",
       "      <th></th>\n",
       "      <th>T</th>\n",
       "      <th>dof</th>\n",
       "      <th>alternative</th>\n",
       "      <th>p-val</th>\n",
       "      <th>CI99%</th>\n",
       "      <th>cohen-d</th>\n",
       "      <th>BF10</th>\n",
       "      <th>power</th>\n",
       "    </tr>\n",
       "  </thead>\n",
       "  <tbody>\n",
       "    <tr>\n",
       "      <th>T-test</th>\n",
       "      <td>0.793</td>\n",
       "      <td>1257</td>\n",
       "      <td>greater</td>\n",
       "      <td>0.214</td>\n",
       "      <td>[-0.0002700925002221818, inf]</td>\n",
       "      <td>0.01</td>\n",
       "      <td>0.087</td>\n",
       "      <td>0.098</td>\n",
       "    </tr>\n",
       "  </tbody>\n",
       "</table>\n",
       "</div>"
      ],
      "text/plain": [
       "            T   dof alternative  p-val                          CI99%  \\\n",
       "T-test  0.793  1257     greater  0.214  [-0.0002700925002221818, inf]   \n",
       "\n",
       "        cohen-d   BF10  power  \n",
       "T-test     0.01  0.087  0.098  "
      ]
     },
     "execution_count": 89,
     "metadata": {},
     "output_type": "execute_result"
    }
   ],
   "source": [
    "# One-sided. Alternative: Mean of Volatility is greater than that of the market\n",
    "V_M = pg.ttest(port_returns_daily['Volatility(R)'], port_returns_daily['Market'],\n",
    "         alternative='greater', paired=True, confidence=0.99).round(3)\n",
    "V_M"
   ]
  },
  {
   "cell_type": "markdown",
   "id": "879e47cf",
   "metadata": {
    "pycharm": {
     "name": "#%% md\n"
    }
   },
   "source": [
    "##### Qiaozhen Lu: So sad that the price you have to pay for the low volatility is to obtain only the market return."
   ]
  },
  {
   "cell_type": "markdown",
   "id": "7124c99c",
   "metadata": {
    "pycharm": {
     "name": "#%% md\n"
    }
   },
   "source": [
    "#### Q2: Is the result of the ANOVA analysis messed up by the correlation?\n",
    "Here is how I do it.\n",
    "\n",
    "In the case where the groups are dependent on each other, the equivalent of the one-way ANOVA is the repeated measures ANOVA.\n",
    "\n",
    "Based on what I have learned from Google about the repeated ANOVA, in our case, the subjects are the dates, and the groups are the three allocations.\n",
    "\n",
    "The null hypothesis we are testing is that the mean daily return is the same for all allocations. The alternative is that they are significantly different from each other."
   ]
  },
  {
   "cell_type": "code",
   "execution_count": 162,
   "id": "3d510d9a",
   "metadata": {
    "pycharm": {
     "name": "#%%\n"
    }
   },
   "outputs": [
    {
     "data": {
      "text/html": [
       "<div>\n",
       "<style scoped>\n",
       "    .dataframe tbody tr th:only-of-type {\n",
       "        vertical-align: middle;\n",
       "    }\n",
       "\n",
       "    .dataframe tbody tr th {\n",
       "        vertical-align: top;\n",
       "    }\n",
       "\n",
       "    .dataframe thead th {\n",
       "        text-align: right;\n",
       "    }\n",
       "</style>\n",
       "<table border=\"1\" class=\"dataframe\">\n",
       "  <thead>\n",
       "    <tr style=\"text-align: right;\">\n",
       "      <th></th>\n",
       "      <th>Type</th>\n",
       "      <th>Date</th>\n",
       "      <th>Daily Return</th>\n",
       "    </tr>\n",
       "  </thead>\n",
       "  <tbody>\n",
       "    <tr>\n",
       "      <th>0</th>\n",
       "      <td>Equal(R)</td>\n",
       "      <td>2017-08-31</td>\n",
       "      <td>0.006007</td>\n",
       "    </tr>\n",
       "    <tr>\n",
       "      <th>1</th>\n",
       "      <td>Equal(R)</td>\n",
       "      <td>2017-09-01</td>\n",
       "      <td>-0.000420</td>\n",
       "    </tr>\n",
       "    <tr>\n",
       "      <th>2</th>\n",
       "      <td>Equal(R)</td>\n",
       "      <td>2017-09-05</td>\n",
       "      <td>-0.011321</td>\n",
       "    </tr>\n",
       "    <tr>\n",
       "      <th>3</th>\n",
       "      <td>Equal(R)</td>\n",
       "      <td>2017-09-06</td>\n",
       "      <td>0.002934</td>\n",
       "    </tr>\n",
       "    <tr>\n",
       "      <th>4</th>\n",
       "      <td>Equal(R)</td>\n",
       "      <td>2017-09-07</td>\n",
       "      <td>0.002413</td>\n",
       "    </tr>\n",
       "  </tbody>\n",
       "</table>\n",
       "</div>"
      ],
      "text/plain": [
       "       Type       Date  Daily Return\n",
       "0  Equal(R) 2017-08-31      0.006007\n",
       "1  Equal(R) 2017-09-01     -0.000420\n",
       "2  Equal(R) 2017-09-05     -0.011321\n",
       "3  Equal(R) 2017-09-06      0.002934\n",
       "4  Equal(R) 2017-09-07      0.002413"
      ]
     },
     "execution_count": 162,
     "metadata": {},
     "output_type": "execute_result"
    }
   ],
   "source": [
    "# Strip out the daily returns to form a new dataframe\n",
    "# Redoing this because the previous codes messed the dataframe\n",
    "port_returns_daily = port_returns.iloc[: , 0: 3]\n",
    "\n",
    "# Reshape the dataframe, such that we have a column for portfolio type\n",
    "port_returns_daily = port_returns_daily.unstack()\n",
    "\n",
    "# Reset the index of the dataframe\n",
    "port_returns_daily = port_returns_daily.reset_index()\n",
    "\n",
    "# Rename column names\n",
    "# Here I kept the date column instead of indexing it\n",
    "# Because the repeated ANOVA requires specifying the subjects, which is the date\n",
    "names3 = ['Type', 'Date', 'Daily Return']\n",
    "\n",
    "port_returns_daily.columns = names3\n",
    "\n",
    "# Inspect dataframe\n",
    "port_returns_daily.head()\n"
   ]
  },
  {
   "cell_type": "code",
   "execution_count": 164,
   "id": "31981d67",
   "metadata": {
    "pycharm": {
     "name": "#%%\n"
    }
   },
   "outputs": [
    {
     "name": "stderr",
     "output_type": "stream",
     "text": [
      "C:\\Users\\Qiaozheng Lu\\Desktop\\S01\\S01_Assignments\\BMF 5324\\Individual Data Lab 1 (Practice) - Financial Concepts\\venv\\lib\\site-packages\\pingouin\\distribution.py:977: RuntimeWarning: divide by zero encountered in double_scalars\n",
      "  W = np.product(eig) / (eig.sum() / d) ** d\n"
     ]
    },
    {
     "data": {
      "text/html": [
       "<div>\n",
       "<style scoped>\n",
       "    .dataframe tbody tr th:only-of-type {\n",
       "        vertical-align: middle;\n",
       "    }\n",
       "\n",
       "    .dataframe tbody tr th {\n",
       "        vertical-align: top;\n",
       "    }\n",
       "\n",
       "    .dataframe thead th {\n",
       "        text-align: right;\n",
       "    }\n",
       "</style>\n",
       "<table border=\"1\" class=\"dataframe\">\n",
       "  <thead>\n",
       "    <tr style=\"text-align: right;\">\n",
       "      <th></th>\n",
       "      <th>Source</th>\n",
       "      <th>ddof1</th>\n",
       "      <th>ddof2</th>\n",
       "      <th>F</th>\n",
       "      <th>p-unc</th>\n",
       "      <th>ng2</th>\n",
       "      <th>eps</th>\n",
       "    </tr>\n",
       "  </thead>\n",
       "  <tbody>\n",
       "    <tr>\n",
       "      <th>0</th>\n",
       "      <td>Type</td>\n",
       "      <td>2</td>\n",
       "      <td>2514</td>\n",
       "      <td>7.096</td>\n",
       "      <td>0.001</td>\n",
       "      <td>0.001</td>\n",
       "      <td>0.594</td>\n",
       "    </tr>\n",
       "  </tbody>\n",
       "</table>\n",
       "</div>"
      ],
      "text/plain": [
       "  Source  ddof1  ddof2      F  p-unc    ng2    eps\n",
       "0   Type      2   2514  7.096  0.001  0.001  0.594"
      ]
     },
     "execution_count": 164,
     "metadata": {},
     "output_type": "execute_result"
    }
   ],
   "source": [
    "anova2 = pg.rm_anova(data=port_returns_daily, dv='Daily Return', within='Type', subject='Date').round(3)\n",
    "\n",
    "anova2\n"
   ]
  },
  {
   "cell_type": "markdown",
   "id": "fa5005de",
   "metadata": {
    "pycharm": {
     "name": "#%% md\n"
    }
   },
   "source": [
    "##### Qiaozheng Lu: Though some warning is report (which I have no idea why), the repeated ANOVA suggests that the mean daily return is significantly different from each other."
   ]
  }
 ],
 "metadata": {
  "kernelspec": {
   "display_name": "Python 3 (ipykernel)",
   "language": "python",
   "name": "python3"
  },
  "language_info": {
   "codemirror_mode": {
    "name": "ipython",
    "version": 3
   },
   "file_extension": ".py",
   "mimetype": "text/x-python",
   "name": "python",
   "nbconvert_exporter": "python",
   "pygments_lexer": "ipython3",
   "version": "3.9.10"
  }
 },
 "nbformat": 4,
 "nbformat_minor": 5
}
